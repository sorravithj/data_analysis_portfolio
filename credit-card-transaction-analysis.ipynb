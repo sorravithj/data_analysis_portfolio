{
 "cells": [
  {
   "cell_type": "code",
   "execution_count": 1,
   "id": "e85a0098",
   "metadata": {
    "_execution_state": "idle",
    "_uuid": "051d70d956493feee0c6d64651c6a088724dca2a",
    "execution": {
     "iopub.execute_input": "2022-12-26T06:30:53.834181Z",
     "iopub.status.busy": "2022-12-26T06:30:53.833639Z",
     "iopub.status.idle": "2022-12-26T06:30:55.134472Z",
     "shell.execute_reply": "2022-12-26T06:30:55.133066Z"
    },
    "papermill": {
     "duration": 1.312246,
     "end_time": "2022-12-26T06:30:55.137641",
     "exception": false,
     "start_time": "2022-12-26T06:30:53.825395",
     "status": "completed"
    },
    "tags": []
   },
   "outputs": [
    {
     "name": "stdout",
     "output_type": "stream",
     "text": [
      "/kaggle/input/credit-card-transactions/sd254_users.csv\n",
      "/kaggle/input/credit-card-transactions/User0_credit_card_transactions.csv\n",
      "/kaggle/input/credit-card-transactions/sd254_cards.csv\n",
      "/kaggle/input/credit-card-transactions/credit_card_transactions-ibm_v2.csv\n",
      "/kaggle/input/mcc-list/MerchantCategoryCodeList.xlsx\n"
     ]
    }
   ],
   "source": [
    "import numpy as np\n",
    "import pandas as pd\n",
    "import os\n",
    "for dirname, _, filenames in os.walk('/kaggle/input'):\n",
    "    for filename in filenames:\n",
    "        print(os.path.join(dirname, filename))\n",
    "import matplotlib.pyplot as plt\n",
    "import seaborn as sns\n",
    "import sys"
   ]
  },
  {
   "cell_type": "code",
   "execution_count": 2,
   "id": "77b02b58",
   "metadata": {
    "execution": {
     "iopub.execute_input": "2022-12-26T06:30:55.150426Z",
     "iopub.status.busy": "2022-12-26T06:30:55.149235Z",
     "iopub.status.idle": "2022-12-26T06:32:33.337914Z",
     "shell.execute_reply": "2022-12-26T06:32:33.336456Z"
    },
    "papermill": {
     "duration": 98.198347,
     "end_time": "2022-12-26T06:32:33.340969",
     "exception": false,
     "start_time": "2022-12-26T06:30:55.142622",
     "status": "completed"
    },
    "tags": []
   },
   "outputs": [
    {
     "name": "stderr",
     "output_type": "stream",
     "text": [
      "/opt/conda/lib/python3.7/site-packages/ipykernel_launcher.py:7: SettingWithCopyWarning: \n",
      "A value is trying to be set on a copy of a slice from a DataFrame.\n",
      "Try using .loc[row_indexer,col_indexer] = value instead\n",
      "\n",
      "See the caveats in the documentation: https://pandas.pydata.org/pandas-docs/stable/user_guide/indexing.html#returning-a-view-versus-a-copy\n",
      "  import sys\n"
     ]
    },
    {
     "data": {
      "text/html": [
       "<div>\n",
       "<style scoped>\n",
       "    .dataframe tbody tr th:only-of-type {\n",
       "        vertical-align: middle;\n",
       "    }\n",
       "\n",
       "    .dataframe tbody tr th {\n",
       "        vertical-align: top;\n",
       "    }\n",
       "\n",
       "    .dataframe thead th {\n",
       "        text-align: right;\n",
       "    }\n",
       "</style>\n",
       "<table border=\"1\" class=\"dataframe\">\n",
       "  <thead>\n",
       "    <tr style=\"text-align: right;\">\n",
       "      <th></th>\n",
       "      <th>Card</th>\n",
       "      <th>Year</th>\n",
       "      <th>Month</th>\n",
       "      <th>Day</th>\n",
       "      <th>Time</th>\n",
       "      <th>Amount</th>\n",
       "      <th>Use Chip</th>\n",
       "      <th>Merchant City</th>\n",
       "      <th>Merchant State</th>\n",
       "      <th>MCC</th>\n",
       "    </tr>\n",
       "  </thead>\n",
       "  <tbody>\n",
       "    <tr>\n",
       "      <th>2188</th>\n",
       "      <td>0</td>\n",
       "      <td>2009</td>\n",
       "      <td>1</td>\n",
       "      <td>1</td>\n",
       "      <td>06:16</td>\n",
       "      <td>135.48</td>\n",
       "      <td>Swipe Transaction</td>\n",
       "      <td>La Verne</td>\n",
       "      <td>CA</td>\n",
       "      <td>5311</td>\n",
       "    </tr>\n",
       "    <tr>\n",
       "      <th>2189</th>\n",
       "      <td>0</td>\n",
       "      <td>2009</td>\n",
       "      <td>1</td>\n",
       "      <td>3</td>\n",
       "      <td>06:44</td>\n",
       "      <td>43.53</td>\n",
       "      <td>Swipe Transaction</td>\n",
       "      <td>La Verne</td>\n",
       "      <td>CA</td>\n",
       "      <td>5912</td>\n",
       "    </tr>\n",
       "    <tr>\n",
       "      <th>2190</th>\n",
       "      <td>0</td>\n",
       "      <td>2009</td>\n",
       "      <td>1</td>\n",
       "      <td>3</td>\n",
       "      <td>11:29</td>\n",
       "      <td>1031.86</td>\n",
       "      <td>Swipe Transaction</td>\n",
       "      <td>San Diego</td>\n",
       "      <td>CA</td>\n",
       "      <td>3058</td>\n",
       "    </tr>\n",
       "    <tr>\n",
       "      <th>2191</th>\n",
       "      <td>0</td>\n",
       "      <td>2009</td>\n",
       "      <td>1</td>\n",
       "      <td>3</td>\n",
       "      <td>20:19</td>\n",
       "      <td>55.65</td>\n",
       "      <td>Swipe Transaction</td>\n",
       "      <td>La Verne</td>\n",
       "      <td>CA</td>\n",
       "      <td>5812</td>\n",
       "    </tr>\n",
       "    <tr>\n",
       "      <th>2192</th>\n",
       "      <td>0</td>\n",
       "      <td>2009</td>\n",
       "      <td>1</td>\n",
       "      <td>4</td>\n",
       "      <td>05:51</td>\n",
       "      <td>155.76</td>\n",
       "      <td>Swipe Transaction</td>\n",
       "      <td>La Verne</td>\n",
       "      <td>CA</td>\n",
       "      <td>5912</td>\n",
       "    </tr>\n",
       "  </tbody>\n",
       "</table>\n",
       "</div>"
      ],
      "text/plain": [
       "      Card  Year  Month  Day   Time   Amount           Use Chip Merchant City  \\\n",
       "2188     0  2009      1    1  06:16   135.48  Swipe Transaction      La Verne   \n",
       "2189     0  2009      1    3  06:44    43.53  Swipe Transaction      La Verne   \n",
       "2190     0  2009      1    3  11:29  1031.86  Swipe Transaction     San Diego   \n",
       "2191     0  2009      1    3  20:19    55.65  Swipe Transaction      La Verne   \n",
       "2192     0  2009      1    4  05:51   155.76  Swipe Transaction      La Verne   \n",
       "\n",
       "     Merchant State   MCC  \n",
       "2188             CA  5311  \n",
       "2189             CA  5912  \n",
       "2190             CA  3058  \n",
       "2191             CA  5812  \n",
       "2192             CA  5912  "
      ]
     },
     "execution_count": 2,
     "metadata": {},
     "output_type": "execute_result"
    }
   ],
   "source": [
    "#CREDIT CARD TRANSACTION DATA\n",
    "\n",
    "df = pd.read_csv('/kaggle/input/credit-card-transactions/credit_card_transactions-ibm_v2.csv')\n",
    "\n",
    "df2 = df[['Card','Year','Month','Day','Time', 'Amount', 'Use Chip', 'Merchant City', 'Merchant State', 'MCC']]\n",
    "\n",
    "df2['Amount'] = df2['Amount'].str[1:].astype(float) #Cut $ signs and change dtype to float\n",
    "\n",
    "#Keep data only in the years between 2009 to 2019\n",
    "df2 = df2.loc[df2['Year'] > 2008]\n",
    "df2 = df2.loc[df2['Year'] < 2020]\n",
    "\n",
    "df2.head()"
   ]
  },
  {
   "cell_type": "code",
   "execution_count": 3,
   "id": "837b74e0",
   "metadata": {
    "execution": {
     "iopub.execute_input": "2022-12-26T06:32:33.353035Z",
     "iopub.status.busy": "2022-12-26T06:32:33.352594Z",
     "iopub.status.idle": "2022-12-26T06:32:33.845595Z",
     "shell.execute_reply": "2022-12-26T06:32:33.844034Z"
    },
    "papermill": {
     "duration": 0.50223,
     "end_time": "2022-12-26T06:32:33.848489",
     "exception": false,
     "start_time": "2022-12-26T06:32:33.346259",
     "status": "completed"
    },
    "tags": []
   },
   "outputs": [
    {
     "data": {
      "text/html": [
       "<div>\n",
       "<style scoped>\n",
       "    .dataframe tbody tr th:only-of-type {\n",
       "        vertical-align: middle;\n",
       "    }\n",
       "\n",
       "    .dataframe tbody tr th {\n",
       "        vertical-align: top;\n",
       "    }\n",
       "\n",
       "    .dataframe thead th {\n",
       "        text-align: right;\n",
       "    }\n",
       "</style>\n",
       "<table border=\"1\" class=\"dataframe\">\n",
       "  <thead>\n",
       "    <tr style=\"text-align: right;\">\n",
       "      <th></th>\n",
       "      <th>MCC CODE</th>\n",
       "      <th>Program Type</th>\n",
       "    </tr>\n",
       "  </thead>\n",
       "  <tbody>\n",
       "    <tr>\n",
       "      <th>0</th>\n",
       "      <td>742</td>\n",
       "      <td>Veterinary Services</td>\n",
       "    </tr>\n",
       "    <tr>\n",
       "      <th>1</th>\n",
       "      <td>763</td>\n",
       "      <td>Agricultural Cooperatives</td>\n",
       "    </tr>\n",
       "    <tr>\n",
       "      <th>2</th>\n",
       "      <td>780</td>\n",
       "      <td>Landscaping and Horticultural Services</td>\n",
       "    </tr>\n",
       "    <tr>\n",
       "      <th>3</th>\n",
       "      <td>1520</td>\n",
       "      <td>General Contractor/Residential Building</td>\n",
       "    </tr>\n",
       "    <tr>\n",
       "      <th>4</th>\n",
       "      <td>1711</td>\n",
       "      <td>Heating, Plumbing, Air Conditioning Contractors</td>\n",
       "    </tr>\n",
       "  </tbody>\n",
       "</table>\n",
       "</div>"
      ],
      "text/plain": [
       "   MCC CODE                                     Program Type\n",
       "0       742                              Veterinary Services\n",
       "1       763                        Agricultural Cooperatives\n",
       "2       780           Landscaping and Horticultural Services\n",
       "3      1520          General Contractor/Residential Building\n",
       "4      1711  Heating, Plumbing, Air Conditioning Contractors"
      ]
     },
     "execution_count": 3,
     "metadata": {},
     "output_type": "execute_result"
    }
   ],
   "source": [
    "#MCC CODE\n",
    "\n",
    "mcc = pd.read_excel('/kaggle/input/mcc-list/MerchantCategoryCodeList.xlsx')\n",
    "\n",
    "mcc = mcc.dropna() #drop na row\n",
    "\n",
    "mcc[['MCC CODE']] =  mcc[['MCC CODE']].astype(int) #CHANGE COLUMN DATA TYPE\n",
    "\n",
    "mcc.head()"
   ]
  },
  {
   "cell_type": "code",
   "execution_count": 4,
   "id": "33d6d7c9",
   "metadata": {
    "execution": {
     "iopub.execute_input": "2022-12-26T06:32:33.863047Z",
     "iopub.status.busy": "2022-12-26T06:32:33.862580Z",
     "iopub.status.idle": "2022-12-26T06:32:41.368290Z",
     "shell.execute_reply": "2022-12-26T06:32:41.366465Z"
    },
    "papermill": {
     "duration": 7.517752,
     "end_time": "2022-12-26T06:32:41.372196",
     "exception": false,
     "start_time": "2022-12-26T06:32:33.854444",
     "status": "completed"
    },
    "tags": []
   },
   "outputs": [
    {
     "data": {
      "text/html": [
       "<div>\n",
       "<style scoped>\n",
       "    .dataframe tbody tr th:only-of-type {\n",
       "        vertical-align: middle;\n",
       "    }\n",
       "\n",
       "    .dataframe tbody tr th {\n",
       "        vertical-align: top;\n",
       "    }\n",
       "\n",
       "    .dataframe thead th {\n",
       "        text-align: right;\n",
       "    }\n",
       "</style>\n",
       "<table border=\"1\" class=\"dataframe\">\n",
       "  <thead>\n",
       "    <tr style=\"text-align: right;\">\n",
       "      <th></th>\n",
       "      <th>Card</th>\n",
       "      <th>Year</th>\n",
       "      <th>Month</th>\n",
       "      <th>Day</th>\n",
       "      <th>Time</th>\n",
       "      <th>Amount</th>\n",
       "      <th>Use Chip</th>\n",
       "      <th>Merchant City</th>\n",
       "      <th>Merchant State</th>\n",
       "      <th>MCC</th>\n",
       "      <th>MCC CODE</th>\n",
       "      <th>Program Type</th>\n",
       "    </tr>\n",
       "  </thead>\n",
       "  <tbody>\n",
       "    <tr>\n",
       "      <th>0</th>\n",
       "      <td>0</td>\n",
       "      <td>2009</td>\n",
       "      <td>1</td>\n",
       "      <td>1</td>\n",
       "      <td>06:16</td>\n",
       "      <td>135.48</td>\n",
       "      <td>Swipe Transaction</td>\n",
       "      <td>La Verne</td>\n",
       "      <td>CA</td>\n",
       "      <td>5311</td>\n",
       "      <td>5311</td>\n",
       "      <td>Department Stores</td>\n",
       "    </tr>\n",
       "    <tr>\n",
       "      <th>1</th>\n",
       "      <td>0</td>\n",
       "      <td>2009</td>\n",
       "      <td>1</td>\n",
       "      <td>3</td>\n",
       "      <td>06:44</td>\n",
       "      <td>43.53</td>\n",
       "      <td>Swipe Transaction</td>\n",
       "      <td>La Verne</td>\n",
       "      <td>CA</td>\n",
       "      <td>5912</td>\n",
       "      <td>5912</td>\n",
       "      <td>Drug Stores and Pharmacies</td>\n",
       "    </tr>\n",
       "    <tr>\n",
       "      <th>2</th>\n",
       "      <td>0</td>\n",
       "      <td>2009</td>\n",
       "      <td>1</td>\n",
       "      <td>3</td>\n",
       "      <td>11:29</td>\n",
       "      <td>1031.86</td>\n",
       "      <td>Swipe Transaction</td>\n",
       "      <td>San Diego</td>\n",
       "      <td>CA</td>\n",
       "      <td>3058</td>\n",
       "      <td>3058</td>\n",
       "      <td>Delta</td>\n",
       "    </tr>\n",
       "    <tr>\n",
       "      <th>3</th>\n",
       "      <td>0</td>\n",
       "      <td>2009</td>\n",
       "      <td>1</td>\n",
       "      <td>3</td>\n",
       "      <td>20:19</td>\n",
       "      <td>55.65</td>\n",
       "      <td>Swipe Transaction</td>\n",
       "      <td>La Verne</td>\n",
       "      <td>CA</td>\n",
       "      <td>5812</td>\n",
       "      <td>5812</td>\n",
       "      <td>Eating Places and Restaurants</td>\n",
       "    </tr>\n",
       "    <tr>\n",
       "      <th>4</th>\n",
       "      <td>0</td>\n",
       "      <td>2009</td>\n",
       "      <td>1</td>\n",
       "      <td>4</td>\n",
       "      <td>05:51</td>\n",
       "      <td>155.76</td>\n",
       "      <td>Swipe Transaction</td>\n",
       "      <td>La Verne</td>\n",
       "      <td>CA</td>\n",
       "      <td>5912</td>\n",
       "      <td>5912</td>\n",
       "      <td>Drug Stores and Pharmacies</td>\n",
       "    </tr>\n",
       "  </tbody>\n",
       "</table>\n",
       "</div>"
      ],
      "text/plain": [
       "   Card  Year  Month  Day   Time   Amount           Use Chip Merchant City  \\\n",
       "0     0  2009      1    1  06:16   135.48  Swipe Transaction      La Verne   \n",
       "1     0  2009      1    3  06:44    43.53  Swipe Transaction      La Verne   \n",
       "2     0  2009      1    3  11:29  1031.86  Swipe Transaction     San Diego   \n",
       "3     0  2009      1    3  20:19    55.65  Swipe Transaction      La Verne   \n",
       "4     0  2009      1    4  05:51   155.76  Swipe Transaction      La Verne   \n",
       "\n",
       "  Merchant State   MCC  MCC CODE                   Program Type  \n",
       "0             CA  5311      5311              Department Stores  \n",
       "1             CA  5912      5912     Drug Stores and Pharmacies  \n",
       "2             CA  3058      3058                          Delta  \n",
       "3             CA  5812      5812  Eating Places and Restaurants  \n",
       "4             CA  5912      5912     Drug Stores and Pharmacies  "
      ]
     },
     "execution_count": 4,
     "metadata": {},
     "output_type": "execute_result"
    }
   ],
   "source": [
    "#pandas merges https://pandas.pydata.org/pandas-docs/stable/reference/api/pandas.merge.html\n",
    "\n",
    "merge_df = pd.merge(df2, mcc, left_on = 'MCC', right_on = 'MCC CODE', how = 'left')\n",
    "\n",
    "merge_df.head()"
   ]
  },
  {
   "cell_type": "code",
   "execution_count": 5,
   "id": "4217d65a",
   "metadata": {
    "execution": {
     "iopub.execute_input": "2022-12-26T06:32:41.385489Z",
     "iopub.status.busy": "2022-12-26T06:32:41.385056Z",
     "iopub.status.idle": "2022-12-26T06:32:45.684177Z",
     "shell.execute_reply": "2022-12-26T06:32:45.682191Z"
    },
    "papermill": {
     "duration": 4.308982,
     "end_time": "2022-12-26T06:32:45.686922",
     "exception": false,
     "start_time": "2022-12-26T06:32:41.377940",
     "status": "completed"
    },
    "tags": []
   },
   "outputs": [
    {
     "data": {
      "text/html": [
       "<div>\n",
       "<style scoped>\n",
       "    .dataframe tbody tr th:only-of-type {\n",
       "        vertical-align: middle;\n",
       "    }\n",
       "\n",
       "    .dataframe tbody tr th {\n",
       "        vertical-align: top;\n",
       "    }\n",
       "\n",
       "    .dataframe thead th {\n",
       "        text-align: right;\n",
       "    }\n",
       "</style>\n",
       "<table border=\"1\" class=\"dataframe\">\n",
       "  <thead>\n",
       "    <tr style=\"text-align: right;\">\n",
       "      <th></th>\n",
       "      <th>Amount</th>\n",
       "      <th>Year</th>\n",
       "    </tr>\n",
       "    <tr>\n",
       "      <th>Year</th>\n",
       "      <th></th>\n",
       "      <th></th>\n",
       "    </tr>\n",
       "  </thead>\n",
       "  <tbody>\n",
       "    <tr>\n",
       "      <th>2009</th>\n",
       "      <td>59309602.29</td>\n",
       "      <td>2009.0</td>\n",
       "    </tr>\n",
       "    <tr>\n",
       "      <th>2010</th>\n",
       "      <td>65282113.16</td>\n",
       "      <td>2010.0</td>\n",
       "    </tr>\n",
       "    <tr>\n",
       "      <th>2011</th>\n",
       "      <td>68101612.40</td>\n",
       "      <td>2011.0</td>\n",
       "    </tr>\n",
       "    <tr>\n",
       "      <th>2012</th>\n",
       "      <td>69615991.79</td>\n",
       "      <td>2012.0</td>\n",
       "    </tr>\n",
       "    <tr>\n",
       "      <th>2013</th>\n",
       "      <td>71350680.83</td>\n",
       "      <td>2013.0</td>\n",
       "    </tr>\n",
       "  </tbody>\n",
       "</table>\n",
       "</div>"
      ],
      "text/plain": [
       "           Amount    Year\n",
       "Year                     \n",
       "2009  59309602.29  2009.0\n",
       "2010  65282113.16  2010.0\n",
       "2011  68101612.40  2011.0\n",
       "2012  69615991.79  2012.0\n",
       "2013  71350680.83  2013.0"
      ]
     },
     "execution_count": 5,
     "metadata": {},
     "output_type": "execute_result"
    }
   ],
   "source": [
    "#GROUPBY\n",
    "\n",
    "amount_by_year = merge_df[['Year', 'Amount']].groupby(['Year']).sum()\n",
    "\n",
    "amount_by_year['Year'] = amount_by_year.index.astype(float) #Make index a normal column\n",
    "\n",
    "amount_by_year.head()\n",
    "\n",
    "#amount_by_year['Year'] = pd.to_datetime(amount_by_year['Year'].astype(str), format = '%Y') #Set year column to date format\n",
    "\n",
    "##amount_by_year = amount_by_year.drop([2002, 2020]) #drop outlier rows"
   ]
  },
  {
   "cell_type": "code",
   "execution_count": 6,
   "id": "dd6dae10",
   "metadata": {
    "execution": {
     "iopub.execute_input": "2022-12-26T06:32:45.700581Z",
     "iopub.status.busy": "2022-12-26T06:32:45.700075Z",
     "iopub.status.idle": "2022-12-26T06:32:45.706870Z",
     "shell.execute_reply": "2022-12-26T06:32:45.705444Z"
    },
    "papermill": {
     "duration": 0.016932,
     "end_time": "2022-12-26T06:32:45.709620",
     "exception": false,
     "start_time": "2022-12-26T06:32:45.692688",
     "status": "completed"
    },
    "tags": []
   },
   "outputs": [],
   "source": [
    "#Create Function to format large number into K and M units\n",
    "\n",
    "def human_format(num):\n",
    "    magnitude = 0\n",
    "    while abs(num) >= 1000:\n",
    "        magnitude += 1\n",
    "        num /= 1000.0\n",
    "    # add more suffixes if you need them\n",
    "    return '%.2f%s' % (num, ['', 'K', 'M', 'G', 'T', 'P'][magnitude])"
   ]
  },
  {
   "cell_type": "code",
   "execution_count": 7,
   "id": "4081ed62",
   "metadata": {
    "execution": {
     "iopub.execute_input": "2022-12-26T06:32:45.723476Z",
     "iopub.status.busy": "2022-12-26T06:32:45.722925Z",
     "iopub.status.idle": "2022-12-26T06:32:46.122614Z",
     "shell.execute_reply": "2022-12-26T06:32:46.121411Z"
    },
    "papermill": {
     "duration": 0.4098,
     "end_time": "2022-12-26T06:32:46.125495",
     "exception": false,
     "start_time": "2022-12-26T06:32:45.715695",
     "status": "completed"
    },
    "tags": []
   },
   "outputs": [
    {
     "data": {
      "text/plain": [
       "<Figure size 432x288 with 0 Axes>"
      ]
     },
     "metadata": {},
     "output_type": "display_data"
    },
    {
     "data": {
      "image/png": "[encoded data removed]",
      "text/plain": [
       "<Figure size 1440x576 with 1 Axes>"
      ]
     },
     "metadata": {
      "needs_background": "light"
     },
     "output_type": "display_data"
    }
   ],
   "source": [
    "xs = amount_by_year['Year']\n",
    "ys = amount_by_year['Amount']\n",
    "\n",
    "plt.clf()\n",
    "fig, ax = plt.subplots(figsize=(20,8))\n",
    "plt.plot(xs, ys, marker='o')\n",
    "plt.xticks(xs) #show every value on x axis\n",
    "plt.title('Amouny Paid by Credit Card each Year', loc = 'left')\n",
    "\n",
    "for x,y in zip(xs,ys): #data label\n",
    "\n",
    "    label = human_format(y)\n",
    "\n",
    "    plt.annotate(label, # this is the text\n",
    "                 (x,y), # these are the coordinates to position the label\n",
    "                 textcoords=\"offset points\", # how to position the text\n",
    "                 xytext=(0,10), # distance from text to points (x,y)\n",
    "                 ha='center') # horizontal alignment can be left, right or center\n",
    "\n",
    "#plt.rcParams['figure.figsize'] = [20, 5]"
   ]
  },
  {
   "cell_type": "markdown",
   "id": "9de7180b",
   "metadata": {
    "papermill": {
     "duration": 0.00612,
     "end_time": "2022-12-26T06:32:46.137959",
     "exception": false,
     "start_time": "2022-12-26T06:32:46.131839",
     "status": "completed"
    },
    "tags": []
   },
   "source": [
    "***Explanation***\n",
    "\n",
    "**Amouny Paid by Credit Card each Year**\n",
    "\n",
    "From 2009 to 2019, the Amount Pay by Credit Card ranged between around 59.3 M USD to 73.7 M USD. \n",
    "\n",
    "The transaction amount has its sharp increase from 2009 until 2015 and smaller to no growth from 2015 to 2019 which can indicate more people weren adopting to using credit card and the higher cost of living.\n",
    "\n",
    "However, from 2019 onwards, there is a phenomenon called market saturation where the growth in the industry has started to slow down."
   ]
  },
  {
   "cell_type": "code",
   "execution_count": 8,
   "id": "68235435",
   "metadata": {
    "execution": {
     "iopub.execute_input": "2022-12-26T06:32:46.153637Z",
     "iopub.status.busy": "2022-12-26T06:32:46.152505Z",
     "iopub.status.idle": "2022-12-26T06:32:48.102319Z",
     "shell.execute_reply": "2022-12-26T06:32:48.101398Z"
    },
    "papermill": {
     "duration": 1.960284,
     "end_time": "2022-12-26T06:32:48.104886",
     "exception": false,
     "start_time": "2022-12-26T06:32:46.144602",
     "status": "completed"
    },
    "tags": []
   },
   "outputs": [
    {
     "data": {
      "text/html": [
       "<div>\n",
       "<style scoped>\n",
       "    .dataframe tbody tr th:only-of-type {\n",
       "        vertical-align: middle;\n",
       "    }\n",
       "\n",
       "    .dataframe tbody tr th {\n",
       "        vertical-align: top;\n",
       "    }\n",
       "\n",
       "    .dataframe thead th {\n",
       "        text-align: right;\n",
       "    }\n",
       "</style>\n",
       "<table border=\"1\" class=\"dataframe\">\n",
       "  <thead>\n",
       "    <tr style=\"text-align: right;\">\n",
       "      <th></th>\n",
       "      <th>Amount</th>\n",
       "    </tr>\n",
       "    <tr>\n",
       "      <th>Merchant State</th>\n",
       "      <th></th>\n",
       "    </tr>\n",
       "  </thead>\n",
       "  <tbody>\n",
       "    <tr>\n",
       "      <th>CA</th>\n",
       "      <td>79355762.94</td>\n",
       "    </tr>\n",
       "    <tr>\n",
       "      <th>TX</th>\n",
       "      <td>55084650.79</td>\n",
       "    </tr>\n",
       "    <tr>\n",
       "      <th>NY</th>\n",
       "      <td>48364899.40</td>\n",
       "    </tr>\n",
       "    <tr>\n",
       "      <th>FL</th>\n",
       "      <td>40597848.94</td>\n",
       "    </tr>\n",
       "    <tr>\n",
       "      <th>PA</th>\n",
       "      <td>26738559.00</td>\n",
       "    </tr>\n",
       "  </tbody>\n",
       "</table>\n",
       "</div>"
      ],
      "text/plain": [
       "                     Amount\n",
       "Merchant State             \n",
       "CA              79355762.94\n",
       "TX              55084650.79\n",
       "NY              48364899.40\n",
       "FL              40597848.94\n",
       "PA              26738559.00"
      ]
     },
     "execution_count": 8,
     "metadata": {},
     "output_type": "execute_result"
    }
   ],
   "source": [
    "#GROUPBY STATE\n",
    "\n",
    "amount_by_state = merge_df[['Merchant State', 'Amount']].groupby(['Merchant State']).sum()\n",
    "\n",
    "##amount_by_state = amount_by_state.drop(['CA']) #drop outlier rows\n",
    "\n",
    "amount_by_state = amount_by_state.sort_values(by=['Amount'], ascending = False) #Order by amount by desceding\n",
    "\n",
    "amount_by_state.head()"
   ]
  },
  {
   "cell_type": "code",
   "execution_count": 9,
   "id": "62aa9427",
   "metadata": {
    "execution": {
     "iopub.execute_input": "2022-12-26T06:32:48.120826Z",
     "iopub.status.busy": "2022-12-26T06:32:48.119902Z",
     "iopub.status.idle": "2022-12-26T06:32:48.126970Z",
     "shell.execute_reply": "2022-12-26T06:32:48.125762Z"
    },
    "papermill": {
     "duration": 0.017912,
     "end_time": "2022-12-26T06:32:48.129401",
     "exception": false,
     "start_time": "2022-12-26T06:32:48.111489",
     "status": "completed"
    },
    "tags": []
   },
   "outputs": [],
   "source": [
    "#TOP 5 Spenders\n",
    "\n",
    "z = []\n",
    "for y in amount_by_state['Amount']:\n",
    "    x = human_format(y)\n",
    "    z.append(x)\n",
    "    \n",
    "#amount_by_state['Amount'] = z \n",
    "\n",
    "top_5_states = amount_by_state.head()\n",
    "\n",
    "#HEATMAP\n",
    "#amount_by_state.head().style.background_gradient(cmap='Greens')"
   ]
  },
  {
   "cell_type": "code",
   "execution_count": 10,
   "id": "c4a3b91b",
   "metadata": {
    "execution": {
     "iopub.execute_input": "2022-12-26T06:32:48.145130Z",
     "iopub.status.busy": "2022-12-26T06:32:48.144708Z",
     "iopub.status.idle": "2022-12-26T06:32:48.453293Z",
     "shell.execute_reply": "2022-12-26T06:32:48.451400Z"
    },
    "papermill": {
     "duration": 0.320349,
     "end_time": "2022-12-26T06:32:48.456984",
     "exception": false,
     "start_time": "2022-12-26T06:32:48.136635",
     "status": "completed"
    },
    "tags": []
   },
   "outputs": [
    {
     "data": {
      "text/plain": [
       "Text(0.0, 1.0, 'Top 5 Spender States Over 10 Years')"
      ]
     },
     "execution_count": 10,
     "metadata": {},
     "output_type": "execute_result"
    },
    {
     "data": {
      "text/plain": [
       "<Figure size 432x288 with 0 Axes>"
      ]
     },
     "metadata": {},
     "output_type": "display_data"
    },
    {
     "data": {
      "image/png": "[encoded data removed]",
      "text/plain": [
       "<Figure size 1080x576 with 1 Axes>"
      ]
     },
     "metadata": {
      "needs_background": "light"
     },
     "output_type": "display_data"
    }
   ],
   "source": [
    "plt.clf()\n",
    "plt.figure(figsize = (15, 8))\n",
    "plots = sns.barplot(x  = top_5_states.index, y = top_5_states['Amount'], data = top_5_states)\n",
    "\n",
    "for bar in plots.patches:\n",
    "   \n",
    "  # Using Matplotlib's annotate function and\n",
    "  # passing the coordinates where the annotation shall be done\n",
    "  # x-coordinate: bar.get_x() + bar.get_width() / 2\n",
    "  # y-coordinate: bar.get_height()\n",
    "  # free space to be left to make graph pleasing: (0, 8)\n",
    "  # ha and va stand for the horizontal and vertical alignment\n",
    "    plots.annotate(human_format(bar.get_height()),\n",
    "                   (bar.get_x() + bar.get_width() / 2,\n",
    "                    bar.get_height()), ha='center', va='center',\n",
    "                   size=15, xytext=(0, 8),\n",
    "                   textcoords='offset points')\n",
    "\n",
    "\n",
    "\n",
    "\n",
    "#plt.bar_label(plt.bar(top_5_states.index, top_5_states['Amount'], color ='Green',\n",
    "#        width = 0.4))\n",
    "plt.title(\"Top 5 Spender States Over 10 Years\", loc = 'left')"
   ]
  },
  {
   "cell_type": "markdown",
   "id": "1dcc5d1b",
   "metadata": {
    "papermill": {
     "duration": 0.008473,
     "end_time": "2022-12-26T06:32:48.473614",
     "exception": false,
     "start_time": "2022-12-26T06:32:48.465141",
     "status": "completed"
    },
    "tags": []
   },
   "source": [
    "***Explantion***\n",
    "\n",
    "**Top 5 Spender States Over 10 Years**\n",
    "\n",
    "The 5 cities with the largest credit-card spending are California, Texas, New York, Florida and Pennsylvania.\n",
    "\n",
    "With 79.36 Million USD, residents of California had the highest speding over the 10 year time, while Texas and New York came as the second and third.\n",
    "\n",
    "This also means that these top 5 state spenders are among the highest cost of living states over the 10 years and people will be willing to pay more for the goods and products which, in turn, will lead to more revenue."
   ]
  },
  {
   "cell_type": "code",
   "execution_count": 11,
   "id": "8cc0da78",
   "metadata": {
    "execution": {
     "iopub.execute_input": "2022-12-26T06:32:48.490148Z",
     "iopub.status.busy": "2022-12-26T06:32:48.489685Z",
     "iopub.status.idle": "2022-12-26T06:32:51.546971Z",
     "shell.execute_reply": "2022-12-26T06:32:51.545475Z"
    },
    "papermill": {
     "duration": 3.069179,
     "end_time": "2022-12-26T06:32:51.550125",
     "exception": false,
     "start_time": "2022-12-26T06:32:48.480946",
     "status": "completed"
    },
    "tags": []
   },
   "outputs": [],
   "source": [
    "#GROUP BY PROGRAM TYPE\n",
    "\n",
    "amount_by_program = merge_df[['Program Type', 'Amount']].groupby(['Program Type']).sum()\n",
    "\n",
    "t1 = amount_by_program.head()\n",
    "\n",
    "t1 = t1.sort_values(by=['Amount'], ascending = False)"
   ]
  },
  {
   "cell_type": "code",
   "execution_count": 12,
   "id": "6ac9750a",
   "metadata": {
    "execution": {
     "iopub.execute_input": "2022-12-26T06:32:51.567517Z",
     "iopub.status.busy": "2022-12-26T06:32:51.567088Z",
     "iopub.status.idle": "2022-12-26T06:32:51.850855Z",
     "shell.execute_reply": "2022-12-26T06:32:51.849604Z"
    },
    "papermill": {
     "duration": 0.295703,
     "end_time": "2022-12-26T06:32:51.853628",
     "exception": false,
     "start_time": "2022-12-26T06:32:51.557925",
     "status": "completed"
    },
    "tags": []
   },
   "outputs": [
    {
     "data": {
      "text/plain": [
       "Text(0.0, 1.0, 'Top 5 Most Spending Categories')"
      ]
     },
     "execution_count": 12,
     "metadata": {},
     "output_type": "execute_result"
    },
    {
     "data": {
      "text/plain": [
       "<Figure size 432x288 with 0 Axes>"
      ]
     },
     "metadata": {},
     "output_type": "display_data"
    },
    {
     "data": {
      "image/png": "[encoded data removed]",
      "text/plain": [
       "<Figure size 720x576 with 1 Axes>"
      ]
     },
     "metadata": {
      "needs_background": "light"
     },
     "output_type": "display_data"
    }
   ],
   "source": [
    "plt.clf()\n",
    "f, ax = plt.subplots(figsize=(10, 8))\n",
    "plots = sns.barplot(x  = t1['Amount'], y = t1.index, data = t1)\n",
    "\n",
    "sns.despine(left=True, bottom=True)\n",
    "\n",
    "for p in ax.patches:\n",
    "    width = p.get_width()    # get bar length\n",
    "    ax.text(width + 1,       # set the text at 1 unit right of the bar\n",
    "            p.get_y() + p.get_height() / 2, # get Y coordinate + X coordinate / 2\n",
    "            human_format(width), # set variable to display, 2 decimals\n",
    "            ha = 'left',   # horizontal alignment\n",
    "            va = 'center')  # vertical alignment\n",
    "\n",
    "plt.title(\"Top 5 Most Spending Categories\", loc = 'left')"
   ]
  },
  {
   "cell_type": "markdown",
   "id": "d9648fc3",
   "metadata": {
    "papermill": {
     "duration": 0.007438,
     "end_time": "2022-12-26T06:32:51.869075",
     "exception": false,
     "start_time": "2022-12-26T06:32:51.861637",
     "status": "completed"
    },
    "tags": []
   },
   "source": [
    "***Explanation***\n",
    "\n",
    "**Top 5 Most Spending Categories**\n",
    "\n",
    "People had spent a lot on travel categories, especially air travel. This present an opportunity for credit card companies to campaign a promotion with their exiting credit card to boost a revenue or produce an exclusively new line of credit card with an very exclusive air travel promotion deal only with your company to acquire more customers, and of course even more revenue, and convince them that with air travel it's better to spend with your company because you have a better deal that suits their needs. \n"
   ]
  },
  {
   "cell_type": "markdown",
   "id": "73db0722",
   "metadata": {
    "papermill": {
     "duration": 0.007388,
     "end_time": "2022-12-26T06:32:51.884247",
     "exception": false,
     "start_time": "2022-12-26T06:32:51.876859",
     "status": "completed"
    },
    "tags": []
   },
   "source": [
    "***Summary***\n",
    "\n",
    "- From 2015 up until 2019,  there is a phenomenon called market saturation in customer banking industry where the lack of growth in total spending happend.\n",
    "\n",
    "- People from 5 states which are CA, TX, NY, FL and PA tend to pay for the higher price of the same products sold in other states due to higher cost of living.\n",
    "\n",
    "- Air Travel category is where people spent money on the most\n",
    "\n",
    "**As a credit card company if you want to gain more customer base and revenue, you should**\n",
    " - Focus on customers from top 5 spender states because those are where the money is\n",
    " - Doing promotions with air travel related such as \n",
    "     - exclusive loung entering at airports, \n",
    "     - special discount for airline ticket, \n",
    "     - special price for seat upgrade and car rental, or \n",
    "     - free pickup from airport to destination and vice versa."
   ]
  }
 ],
 "metadata": {
  "kernelspec": {
   "display_name": "Python 3",
   "language": "python",
   "name": "python3"
  },
  "language_info": {
   "codemirror_mode": {
    "name": "ipython",
    "version": 3
   },
   "file_extension": ".py",
   "mimetype": "text/x-python",
   "name": "python",
   "nbconvert_exporter": "python",
   "pygments_lexer": "ipython3",
   "version": "3.7.12"
  },
  "papermill": {
   "default_parameters": {},
   "duration": 131.320226,
   "end_time": "2022-12-26T06:32:54.515036",
   "environment_variables": {},
   "exception": null,
   "input_path": "__notebook__.ipynb",
   "output_path": "__notebook__.ipynb",
   "parameters": {},
   "start_time": "2022-12-26T06:30:43.194810",
   "version": "2.3.4"
  }
 },
 "nbformat": 4,
 "nbformat_minor": 5
}
